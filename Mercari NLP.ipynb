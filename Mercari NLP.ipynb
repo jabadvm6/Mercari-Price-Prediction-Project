{
 "cells": [
  {
   "cell_type": "markdown",
   "id": "6ee6934a",
   "metadata": {},
   "source": [
    "# Mercari NLP"
   ]
  },
  {
   "cell_type": "code",
   "execution_count": 1,
   "id": "d73de3a9",
   "metadata": {},
   "outputs": [
    {
     "name": "stderr",
     "output_type": "stream",
     "text": [
      "[nltk_data] Downloading package stopwords to /Users/javm/nltk_data...\n",
      "[nltk_data]   Package stopwords is already up-to-date!\n"
     ]
    },
    {
     "data": {
      "text/plain": [
       "True"
      ]
     },
     "execution_count": 1,
     "metadata": {},
     "output_type": "execute_result"
    }
   ],
   "source": [
    "import pandas as pd\n",
    "import os\n",
    "import sys\n",
    "import pandas as pd\n",
    "import nltk\n",
    "from nltk.probability import FreqDist\n",
    "from nltk.corpus import stopwords\n",
    "from nltk.tokenize import regexp_tokenize, word_tokenize, RegexpTokenizer\n",
    "import matplotlib.pyplot as plt\n",
    "import string\n",
    "import re\n",
    "import numpy as np\n",
    "import nltk\n",
    "from nltk.tokenize import word_tokenize\n",
    "from nltk.tokenize import sent_tokenize\n",
    "nltk.download(\"stopwords\")"
   ]
  },
  {
   "cell_type": "markdown",
   "id": "cf8b7d4a",
   "metadata": {},
   "source": [
    "## Preproccessing"
   ]
  },
  {
   "cell_type": "code",
   "execution_count": 2,
   "id": "8c05a8bb",
   "metadata": {},
   "outputs": [],
   "source": [
    "train_df = pd.read_csv(\"/Users/javm/Desktop/Final-Project/train.tsv\", sep = '\\t')"
   ]
  },
  {
   "cell_type": "code",
   "execution_count": 3,
   "id": "bf54dc21",
   "metadata": {
    "scrolled": true
   },
   "outputs": [
    {
     "data": {
      "text/html": [
       "<div>\n",
       "<style scoped>\n",
       "    .dataframe tbody tr th:only-of-type {\n",
       "        vertical-align: middle;\n",
       "    }\n",
       "\n",
       "    .dataframe tbody tr th {\n",
       "        vertical-align: top;\n",
       "    }\n",
       "\n",
       "    .dataframe thead th {\n",
       "        text-align: right;\n",
       "    }\n",
       "</style>\n",
       "<table border=\"1\" class=\"dataframe\">\n",
       "  <thead>\n",
       "    <tr style=\"text-align: right;\">\n",
       "      <th></th>\n",
       "      <th>train_id</th>\n",
       "      <th>name</th>\n",
       "      <th>item_condition_id</th>\n",
       "      <th>category_name</th>\n",
       "      <th>brand_name</th>\n",
       "      <th>price</th>\n",
       "      <th>shipping</th>\n",
       "      <th>item_description</th>\n",
       "    </tr>\n",
       "  </thead>\n",
       "  <tbody>\n",
       "    <tr>\n",
       "      <th>0</th>\n",
       "      <td>0</td>\n",
       "      <td>MLB Cincinnati Reds T Shirt Size XL</td>\n",
       "      <td>3</td>\n",
       "      <td>Men/Tops/T-shirts</td>\n",
       "      <td>NaN</td>\n",
       "      <td>10.0</td>\n",
       "      <td>1</td>\n",
       "      <td>No description yet</td>\n",
       "    </tr>\n",
       "    <tr>\n",
       "      <th>1</th>\n",
       "      <td>1</td>\n",
       "      <td>Razer BlackWidow Chroma Keyboard</td>\n",
       "      <td>3</td>\n",
       "      <td>Electronics/Computers &amp; Tablets/Components &amp; P...</td>\n",
       "      <td>Razer</td>\n",
       "      <td>52.0</td>\n",
       "      <td>0</td>\n",
       "      <td>This keyboard is in great condition and works ...</td>\n",
       "    </tr>\n",
       "    <tr>\n",
       "      <th>2</th>\n",
       "      <td>2</td>\n",
       "      <td>AVA-VIV Blouse</td>\n",
       "      <td>1</td>\n",
       "      <td>Women/Tops &amp; Blouses/Blouse</td>\n",
       "      <td>Target</td>\n",
       "      <td>10.0</td>\n",
       "      <td>1</td>\n",
       "      <td>Adorable top with a hint of lace and a key hol...</td>\n",
       "    </tr>\n",
       "    <tr>\n",
       "      <th>3</th>\n",
       "      <td>3</td>\n",
       "      <td>Leather Horse Statues</td>\n",
       "      <td>1</td>\n",
       "      <td>Home/Home Décor/Home Décor Accents</td>\n",
       "      <td>NaN</td>\n",
       "      <td>35.0</td>\n",
       "      <td>1</td>\n",
       "      <td>New with tags. Leather horses. Retail for [rm]...</td>\n",
       "    </tr>\n",
       "    <tr>\n",
       "      <th>4</th>\n",
       "      <td>4</td>\n",
       "      <td>24K GOLD plated rose</td>\n",
       "      <td>1</td>\n",
       "      <td>Women/Jewelry/Necklaces</td>\n",
       "      <td>NaN</td>\n",
       "      <td>44.0</td>\n",
       "      <td>0</td>\n",
       "      <td>Complete with certificate of authenticity</td>\n",
       "    </tr>\n",
       "    <tr>\n",
       "      <th>...</th>\n",
       "      <td>...</td>\n",
       "      <td>...</td>\n",
       "      <td>...</td>\n",
       "      <td>...</td>\n",
       "      <td>...</td>\n",
       "      <td>...</td>\n",
       "      <td>...</td>\n",
       "      <td>...</td>\n",
       "    </tr>\n",
       "    <tr>\n",
       "      <th>1482530</th>\n",
       "      <td>1482530</td>\n",
       "      <td>Free People Inspired Dress</td>\n",
       "      <td>2</td>\n",
       "      <td>Women/Dresses/Mid-Calf</td>\n",
       "      <td>Free People</td>\n",
       "      <td>20.0</td>\n",
       "      <td>1</td>\n",
       "      <td>Lace, says size small but fits medium perfectl...</td>\n",
       "    </tr>\n",
       "    <tr>\n",
       "      <th>1482531</th>\n",
       "      <td>1482531</td>\n",
       "      <td>Little mermaid handmade dress</td>\n",
       "      <td>2</td>\n",
       "      <td>Kids/Girls 2T-5T/Dresses</td>\n",
       "      <td>Disney</td>\n",
       "      <td>14.0</td>\n",
       "      <td>0</td>\n",
       "      <td>Little mermaid handmade dress never worn size 2t</td>\n",
       "    </tr>\n",
       "    <tr>\n",
       "      <th>1482532</th>\n",
       "      <td>1482532</td>\n",
       "      <td>21 day fix containers and eating plan</td>\n",
       "      <td>2</td>\n",
       "      <td>Sports &amp; Outdoors/Exercise/Fitness accessories</td>\n",
       "      <td>NaN</td>\n",
       "      <td>12.0</td>\n",
       "      <td>0</td>\n",
       "      <td>Used once or twice, still in great shape.</td>\n",
       "    </tr>\n",
       "    <tr>\n",
       "      <th>1482533</th>\n",
       "      <td>1482533</td>\n",
       "      <td>World markets lanterns</td>\n",
       "      <td>3</td>\n",
       "      <td>Home/Home Décor/Home Décor Accents</td>\n",
       "      <td>NaN</td>\n",
       "      <td>45.0</td>\n",
       "      <td>1</td>\n",
       "      <td>There is 2 of each one that you see! So 2 red ...</td>\n",
       "    </tr>\n",
       "    <tr>\n",
       "      <th>1482534</th>\n",
       "      <td>1482534</td>\n",
       "      <td>Brand new lux de ville wallet</td>\n",
       "      <td>1</td>\n",
       "      <td>Women/Women's Accessories/Wallets</td>\n",
       "      <td>NaN</td>\n",
       "      <td>22.0</td>\n",
       "      <td>0</td>\n",
       "      <td>New with tag, red with sparkle. Firm price, no...</td>\n",
       "    </tr>\n",
       "  </tbody>\n",
       "</table>\n",
       "<p>1482535 rows × 8 columns</p>\n",
       "</div>"
      ],
      "text/plain": [
       "         train_id                                   name  item_condition_id  \\\n",
       "0               0    MLB Cincinnati Reds T Shirt Size XL                  3   \n",
       "1               1       Razer BlackWidow Chroma Keyboard                  3   \n",
       "2               2                         AVA-VIV Blouse                  1   \n",
       "3               3                  Leather Horse Statues                  1   \n",
       "4               4                   24K GOLD plated rose                  1   \n",
       "...           ...                                    ...                ...   \n",
       "1482530   1482530             Free People Inspired Dress                  2   \n",
       "1482531   1482531          Little mermaid handmade dress                  2   \n",
       "1482532   1482532  21 day fix containers and eating plan                  2   \n",
       "1482533   1482533                 World markets lanterns                  3   \n",
       "1482534   1482534          Brand new lux de ville wallet                  1   \n",
       "\n",
       "                                             category_name   brand_name  \\\n",
       "0                                        Men/Tops/T-shirts          NaN   \n",
       "1        Electronics/Computers & Tablets/Components & P...        Razer   \n",
       "2                              Women/Tops & Blouses/Blouse       Target   \n",
       "3                       Home/Home Décor/Home Décor Accents          NaN   \n",
       "4                                  Women/Jewelry/Necklaces          NaN   \n",
       "...                                                    ...          ...   \n",
       "1482530                             Women/Dresses/Mid-Calf  Free People   \n",
       "1482531                           Kids/Girls 2T-5T/Dresses       Disney   \n",
       "1482532     Sports & Outdoors/Exercise/Fitness accessories          NaN   \n",
       "1482533                 Home/Home Décor/Home Décor Accents          NaN   \n",
       "1482534                  Women/Women's Accessories/Wallets          NaN   \n",
       "\n",
       "         price  shipping                                   item_description  \n",
       "0         10.0         1                                 No description yet  \n",
       "1         52.0         0  This keyboard is in great condition and works ...  \n",
       "2         10.0         1  Adorable top with a hint of lace and a key hol...  \n",
       "3         35.0         1  New with tags. Leather horses. Retail for [rm]...  \n",
       "4         44.0         0          Complete with certificate of authenticity  \n",
       "...        ...       ...                                                ...  \n",
       "1482530   20.0         1  Lace, says size small but fits medium perfectl...  \n",
       "1482531   14.0         0   Little mermaid handmade dress never worn size 2t  \n",
       "1482532   12.0         0          Used once or twice, still in great shape.  \n",
       "1482533   45.0         1  There is 2 of each one that you see! So 2 red ...  \n",
       "1482534   22.0         0  New with tag, red with sparkle. Firm price, no...  \n",
       "\n",
       "[1482535 rows x 8 columns]"
      ]
     },
     "execution_count": 3,
     "metadata": {},
     "output_type": "execute_result"
    }
   ],
   "source": [
    "train_df"
   ]
  },
  {
   "cell_type": "code",
   "execution_count": 4,
   "id": "4e30dad5",
   "metadata": {},
   "outputs": [],
   "source": [
    "# Turn 'brand name' to 0s and 1s "
   ]
  },
  {
   "cell_type": "code",
   "execution_count": 5,
   "id": "c05b23e1",
   "metadata": {},
   "outputs": [
    {
     "data": {
      "text/plain": [
       "False    849853\n",
       "True     632682\n",
       "Name: brand_name, dtype: int64"
      ]
     },
     "execution_count": 5,
     "metadata": {},
     "output_type": "execute_result"
    }
   ],
   "source": [
    "train_df['brand_name'].isna().value_counts()"
   ]
  },
  {
   "cell_type": "code",
   "execution_count": 25,
   "id": "0deff37e",
   "metadata": {},
   "outputs": [
    {
     "name": "stdout",
     "output_type": "stream",
     "text": [
      "object\n"
     ]
    }
   ],
   "source": [
    "print(train_df['item_description'].dtypes)\n"
   ]
  },
  {
   "cell_type": "code",
   "execution_count": 92,
   "id": "7fe3def8",
   "metadata": {},
   "outputs": [],
   "source": [
    "train_df['category_name'] = train_df['category_name'].str.replace('/', ' ')"
   ]
  },
  {
   "cell_type": "code",
   "execution_count": 94,
   "id": "2325c7d2",
   "metadata": {},
   "outputs": [
    {
     "data": {
      "text/html": [
       "<div>\n",
       "<style scoped>\n",
       "    .dataframe tbody tr th:only-of-type {\n",
       "        vertical-align: middle;\n",
       "    }\n",
       "\n",
       "    .dataframe tbody tr th {\n",
       "        vertical-align: top;\n",
       "    }\n",
       "\n",
       "    .dataframe thead th {\n",
       "        text-align: right;\n",
       "    }\n",
       "</style>\n",
       "<table border=\"1\" class=\"dataframe\">\n",
       "  <thead>\n",
       "    <tr style=\"text-align: right;\">\n",
       "      <th></th>\n",
       "      <th>train_id</th>\n",
       "      <th>name</th>\n",
       "      <th>item_condition_id</th>\n",
       "      <th>category_name</th>\n",
       "      <th>brand_name</th>\n",
       "      <th>price</th>\n",
       "      <th>shipping</th>\n",
       "      <th>item_description</th>\n",
       "      <th>total_description</th>\n",
       "    </tr>\n",
       "  </thead>\n",
       "  <tbody>\n",
       "    <tr>\n",
       "      <th>0</th>\n",
       "      <td>0</td>\n",
       "      <td>MLB Cincinnati Reds T Shirt Size XL</td>\n",
       "      <td>3</td>\n",
       "      <td>Men Tops T-shirts</td>\n",
       "      <td>NaN</td>\n",
       "      <td>10.0</td>\n",
       "      <td>1</td>\n",
       "      <td>No description yet</td>\n",
       "      <td>MLB Cincinnati Reds T Shirt Size XLMen/Tops/T-...</td>\n",
       "    </tr>\n",
       "    <tr>\n",
       "      <th>1</th>\n",
       "      <td>1</td>\n",
       "      <td>Razer BlackWidow Chroma Keyboard</td>\n",
       "      <td>3</td>\n",
       "      <td>Electronics Computers &amp; Tablets Components &amp; P...</td>\n",
       "      <td>Razer</td>\n",
       "      <td>52.0</td>\n",
       "      <td>0</td>\n",
       "      <td>This keyboard is in great condition and works ...</td>\n",
       "      <td>Razer BlackWidow Chroma KeyboardElectronics/Co...</td>\n",
       "    </tr>\n",
       "    <tr>\n",
       "      <th>2</th>\n",
       "      <td>2</td>\n",
       "      <td>AVA-VIV Blouse</td>\n",
       "      <td>1</td>\n",
       "      <td>Women Tops &amp; Blouses Blouse</td>\n",
       "      <td>Target</td>\n",
       "      <td>10.0</td>\n",
       "      <td>1</td>\n",
       "      <td>Adorable top with a hint of lace and a key hol...</td>\n",
       "      <td>AVA-VIV BlouseWomen/Tops &amp; Blouses/Blouseitem_...</td>\n",
       "    </tr>\n",
       "    <tr>\n",
       "      <th>3</th>\n",
       "      <td>3</td>\n",
       "      <td>Leather Horse Statues</td>\n",
       "      <td>1</td>\n",
       "      <td>Home Home Décor Home Décor Accents</td>\n",
       "      <td>NaN</td>\n",
       "      <td>35.0</td>\n",
       "      <td>1</td>\n",
       "      <td>New with tags. Leather horses. Retail for [rm]...</td>\n",
       "      <td>Leather Horse StatuesHome/Home Décor/Home Déco...</td>\n",
       "    </tr>\n",
       "    <tr>\n",
       "      <th>4</th>\n",
       "      <td>4</td>\n",
       "      <td>24K GOLD plated rose</td>\n",
       "      <td>1</td>\n",
       "      <td>Women Jewelry Necklaces</td>\n",
       "      <td>NaN</td>\n",
       "      <td>44.0</td>\n",
       "      <td>0</td>\n",
       "      <td>Complete with certificate of authenticity</td>\n",
       "      <td>24K GOLD plated roseWomen/Jewelry/Necklacesite...</td>\n",
       "    </tr>\n",
       "    <tr>\n",
       "      <th>...</th>\n",
       "      <td>...</td>\n",
       "      <td>...</td>\n",
       "      <td>...</td>\n",
       "      <td>...</td>\n",
       "      <td>...</td>\n",
       "      <td>...</td>\n",
       "      <td>...</td>\n",
       "      <td>...</td>\n",
       "      <td>...</td>\n",
       "    </tr>\n",
       "    <tr>\n",
       "      <th>1482530</th>\n",
       "      <td>1482530</td>\n",
       "      <td>Free People Inspired Dress</td>\n",
       "      <td>2</td>\n",
       "      <td>Women Dresses Mid-Calf</td>\n",
       "      <td>Free People</td>\n",
       "      <td>20.0</td>\n",
       "      <td>1</td>\n",
       "      <td>Lace, says size small but fits medium perfectl...</td>\n",
       "      <td>Free People Inspired DressWomen/Dresses/Mid-Ca...</td>\n",
       "    </tr>\n",
       "    <tr>\n",
       "      <th>1482531</th>\n",
       "      <td>1482531</td>\n",
       "      <td>Little mermaid handmade dress</td>\n",
       "      <td>2</td>\n",
       "      <td>Kids Girls 2T-5T Dresses</td>\n",
       "      <td>Disney</td>\n",
       "      <td>14.0</td>\n",
       "      <td>0</td>\n",
       "      <td>Little mermaid handmade dress never worn size 2t</td>\n",
       "      <td>Little mermaid handmade dressKids/Girls 2T-5T/...</td>\n",
       "    </tr>\n",
       "    <tr>\n",
       "      <th>1482532</th>\n",
       "      <td>1482532</td>\n",
       "      <td>21 day fix containers and eating plan</td>\n",
       "      <td>2</td>\n",
       "      <td>Sports &amp; Outdoors Exercise Fitness accessories</td>\n",
       "      <td>NaN</td>\n",
       "      <td>12.0</td>\n",
       "      <td>0</td>\n",
       "      <td>Used once or twice, still in great shape.</td>\n",
       "      <td>21 day fix containers and eating planSports &amp; ...</td>\n",
       "    </tr>\n",
       "    <tr>\n",
       "      <th>1482533</th>\n",
       "      <td>1482533</td>\n",
       "      <td>World markets lanterns</td>\n",
       "      <td>3</td>\n",
       "      <td>Home Home Décor Home Décor Accents</td>\n",
       "      <td>NaN</td>\n",
       "      <td>45.0</td>\n",
       "      <td>1</td>\n",
       "      <td>There is 2 of each one that you see! So 2 red ...</td>\n",
       "      <td>World markets lanternsHome/Home Décor/Home Déc...</td>\n",
       "    </tr>\n",
       "    <tr>\n",
       "      <th>1482534</th>\n",
       "      <td>1482534</td>\n",
       "      <td>Brand new lux de ville wallet</td>\n",
       "      <td>1</td>\n",
       "      <td>Women Women's Accessories Wallets</td>\n",
       "      <td>NaN</td>\n",
       "      <td>22.0</td>\n",
       "      <td>0</td>\n",
       "      <td>New with tag, red with sparkle. Firm price, no...</td>\n",
       "      <td>Brand new lux de ville walletWomen/Women's Acc...</td>\n",
       "    </tr>\n",
       "  </tbody>\n",
       "</table>\n",
       "<p>1476204 rows × 9 columns</p>\n",
       "</div>"
      ],
      "text/plain": [
       "         train_id                                   name  item_condition_id  \\\n",
       "0               0    MLB Cincinnati Reds T Shirt Size XL                  3   \n",
       "1               1       Razer BlackWidow Chroma Keyboard                  3   \n",
       "2               2                         AVA-VIV Blouse                  1   \n",
       "3               3                  Leather Horse Statues                  1   \n",
       "4               4                   24K GOLD plated rose                  1   \n",
       "...           ...                                    ...                ...   \n",
       "1482530   1482530             Free People Inspired Dress                  2   \n",
       "1482531   1482531          Little mermaid handmade dress                  2   \n",
       "1482532   1482532  21 day fix containers and eating plan                  2   \n",
       "1482533   1482533                 World markets lanterns                  3   \n",
       "1482534   1482534          Brand new lux de ville wallet                  1   \n",
       "\n",
       "                                             category_name   brand_name  \\\n",
       "0                                        Men Tops T-shirts          NaN   \n",
       "1        Electronics Computers & Tablets Components & P...        Razer   \n",
       "2                              Women Tops & Blouses Blouse       Target   \n",
       "3                       Home Home Décor Home Décor Accents          NaN   \n",
       "4                                  Women Jewelry Necklaces          NaN   \n",
       "...                                                    ...          ...   \n",
       "1482530                             Women Dresses Mid-Calf  Free People   \n",
       "1482531                           Kids Girls 2T-5T Dresses       Disney   \n",
       "1482532     Sports & Outdoors Exercise Fitness accessories          NaN   \n",
       "1482533                 Home Home Décor Home Décor Accents          NaN   \n",
       "1482534                  Women Women's Accessories Wallets          NaN   \n",
       "\n",
       "         price  shipping                                   item_description  \\\n",
       "0         10.0         1                                 No description yet   \n",
       "1         52.0         0  This keyboard is in great condition and works ...   \n",
       "2         10.0         1  Adorable top with a hint of lace and a key hol...   \n",
       "3         35.0         1  New with tags. Leather horses. Retail for [rm]...   \n",
       "4         44.0         0          Complete with certificate of authenticity   \n",
       "...        ...       ...                                                ...   \n",
       "1482530   20.0         1  Lace, says size small but fits medium perfectl...   \n",
       "1482531   14.0         0   Little mermaid handmade dress never worn size 2t   \n",
       "1482532   12.0         0          Used once or twice, still in great shape.   \n",
       "1482533   45.0         1  There is 2 of each one that you see! So 2 red ...   \n",
       "1482534   22.0         0  New with tag, red with sparkle. Firm price, no...   \n",
       "\n",
       "                                         total_description  \n",
       "0        MLB Cincinnati Reds T Shirt Size XLMen/Tops/T-...  \n",
       "1        Razer BlackWidow Chroma KeyboardElectronics/Co...  \n",
       "2        AVA-VIV BlouseWomen/Tops & Blouses/Blouseitem_...  \n",
       "3        Leather Horse StatuesHome/Home Décor/Home Déco...  \n",
       "4        24K GOLD plated roseWomen/Jewelry/Necklacesite...  \n",
       "...                                                    ...  \n",
       "1482530  Free People Inspired DressWomen/Dresses/Mid-Ca...  \n",
       "1482531  Little mermaid handmade dressKids/Girls 2T-5T/...  \n",
       "1482532  21 day fix containers and eating planSports & ...  \n",
       "1482533  World markets lanternsHome/Home Décor/Home Déc...  \n",
       "1482534  Brand new lux de ville walletWomen/Women's Acc...  \n",
       "\n",
       "[1476204 rows x 9 columns]"
      ]
     },
     "execution_count": 94,
     "metadata": {},
     "output_type": "execute_result"
    }
   ],
   "source": [
    "train_df"
   ]
  },
  {
   "cell_type": "raw",
   "id": "a614f00c",
   "metadata": {},
   "source": []
  },
  {
   "cell_type": "code",
   "execution_count": 6,
   "id": "7e33d896",
   "metadata": {},
   "outputs": [
    {
     "name": "stderr",
     "output_type": "stream",
     "text": [
      "[nltk_data] Downloading package averaged_perceptron_tagger to\n",
      "[nltk_data]     /Users/javm/nltk_data...\n",
      "[nltk_data]   Package averaged_perceptron_tagger is already up-to-\n",
      "[nltk_data]       date!\n",
      "[nltk_data] Downloading package wordnet to /Users/javm/nltk_data...\n",
      "[nltk_data]   Package wordnet is already up-to-date!\n"
     ]
    }
   ],
   "source": [
    "from sklearn.base import BaseEstimator, TransformerMixin\n",
    "from sklearn.pipeline import Pipeline\n",
    "from nltk import WordNetLemmatizer # lemmatizer using WordNet\n",
    "from nltk.corpus import wordnet # imports WordNet\n",
    "from nltk import pos_tag # nltk's native part of speech tagging\n",
    "\n",
    "nltk.download('averaged_perceptron_tagger')\n",
    "nltk.download('wordnet')\n",
    "from sklearn.feature_extraction.text import TfidfVectorizer, CountVectorizer\n",
    "from sklearn.preprocessing import StandardScaler\n",
    "from sklearn.compose import ColumnTransformer\n",
    "from sklearn.linear_model import LogisticRegression\n",
    "from sklearn.model_selection import train_test_split"
   ]
  },
  {
   "cell_type": "code",
   "execution_count": 7,
   "id": "f0643af6",
   "metadata": {},
   "outputs": [],
   "source": [
    "class TextPreprocessor(BaseEstimator, TransformerMixin):\n",
    "    \n",
    "    def __init__(self):\n",
    "        \n",
    "        pass\n",
    "    \n",
    "    def fit(self, data, y = 0):\n",
    "        \n",
    "        return self\n",
    "    \n",
    "    def transform(self, data, y = 0):\n",
    "        fully_normalized_corpus = data.apply(self.process_doc)\n",
    "        \n",
    "        return fully_normalized_corpus\n",
    "        \n",
    "    def process_doc(self, doc):\n",
    "\n",
    "        wnl = WordNetLemmatizer()\n",
    "        stop_words = stopwords.words('english')\n",
    "        \n",
    "        def pos_tagger(nltk_tag):\n",
    "            if nltk_tag.startswith('J'):\n",
    "                return wordnet.ADJ\n",
    "            elif nltk_tag.startswith('V'):\n",
    "                return wordnet.VERB\n",
    "            elif nltk_tag.startswith('N'):\n",
    "                return wordnet.NOUN\n",
    "            elif nltk_tag.startswith('R'):\n",
    "                return wordnet.ADV\n",
    "            else:         \n",
    "                return None\n",
    "\n",
    "        doc_norm = [tok.lower() for tok in word_tokenize(doc) if ((tok.isalpha()) & (tok not in stop_words)) ]\n",
    "\n",
    "        wordnet_tagged = list(map(lambda x: (x[0], pos_tagger(x[1])), pos_tag(doc_norm))) \n",
    "        doc_norm = [wnl.lemmatize(token, pos) for token, pos in wordnet_tagged if pos is not None]\n",
    "\n",
    "        return \" \".join(doc_norm)"
   ]
  },
  {
   "cell_type": "code",
   "execution_count": 8,
   "id": "6ec97acd",
   "metadata": {},
   "outputs": [],
   "source": [
    "proc = TextPreprocessor()"
   ]
  },
  {
   "cell_type": "code",
   "execution_count": 9,
   "id": "12f65459",
   "metadata": {
    "scrolled": true
   },
   "outputs": [
    {
     "data": {
      "text/plain": [
       "0                                         No description yet\n",
       "1          This keyboard is in great condition and works ...\n",
       "2          Adorable top with a hint of lace and a key hol...\n",
       "3          New with tags. Leather horses. Retail for [rm]...\n",
       "4                  Complete with certificate of authenticity\n",
       "                                 ...                        \n",
       "1482530    Lace, says size small but fits medium perfectl...\n",
       "1482531     Little mermaid handmade dress never worn size 2t\n",
       "1482532            Used once or twice, still in great shape.\n",
       "1482533    There is 2 of each one that you see! So 2 red ...\n",
       "1482534    New with tag, red with sparkle. Firm price, no...\n",
       "Name: item_description, Length: 1482535, dtype: object"
      ]
     },
     "execution_count": 9,
     "metadata": {},
     "output_type": "execute_result"
    }
   ],
   "source": [
    "train_df['item_description']"
   ]
  },
  {
   "cell_type": "code",
   "execution_count": 32,
   "id": "751ad082",
   "metadata": {},
   "outputs": [],
   "source": [
    "# Dropped less than 10 rows\n",
    "train_df.dropna(subset = ['item_description'], inplace = True)"
   ]
  },
  {
   "cell_type": "code",
   "execution_count": 33,
   "id": "da9a4a85",
   "metadata": {
    "scrolled": true
   },
   "outputs": [
    {
     "data": {
      "text/plain": [
       "False    1482531\n",
       "Name: item_description, dtype: int64"
      ]
     },
     "execution_count": 33,
     "metadata": {},
     "output_type": "execute_result"
    }
   ],
   "source": [
    "train_df['item_description'].isna().value_counts()"
   ]
  },
  {
   "cell_type": "code",
   "execution_count": 34,
   "id": "1a79a64e",
   "metadata": {},
   "outputs": [],
   "source": [
    "# Dropped .4%. Not 40%, but .4% as in .004\n",
    "train_df.dropna(subset = ['category_name'],inplace = True)"
   ]
  },
  {
   "cell_type": "code",
   "execution_count": 58,
   "id": "6114bde5",
   "metadata": {},
   "outputs": [
    {
     "data": {
      "text/plain": [
       "False    1476204\n",
       "Name: category_name, dtype: int64"
      ]
     },
     "execution_count": 58,
     "metadata": {},
     "output_type": "execute_result"
    }
   ],
   "source": [
    "train_df['category_name'].isna().value_counts()"
   ]
  },
  {
   "cell_type": "code",
   "execution_count": 55,
   "id": "ce3d47e5",
   "metadata": {},
   "outputs": [],
   "source": [
    "df1 = proc.fit_transform(train_df['item_description'])"
   ]
  },
  {
   "cell_type": "code",
   "execution_count": 95,
   "id": "bcc3f18a",
   "metadata": {},
   "outputs": [],
   "source": [
    "df2 = proc.fit_transform(train_df['category_name'])"
   ]
  },
  {
   "cell_type": "code",
   "execution_count": 57,
   "id": "eb642515",
   "metadata": {},
   "outputs": [],
   "source": [
    "df3 = proc.fit_transform(train_df['name'])"
   ]
  },
  {
   "cell_type": "code",
   "execution_count": 60,
   "id": "cccaac75",
   "metadata": {},
   "outputs": [
    {
     "data": {
      "text/plain": [
       "(1476204,)"
      ]
     },
     "execution_count": 60,
     "metadata": {},
     "output_type": "execute_result"
    }
   ],
   "source": [
    "df1.shape"
   ]
  },
  {
   "cell_type": "code",
   "execution_count": 86,
   "id": "4e03792d",
   "metadata": {},
   "outputs": [
    {
     "data": {
      "text/plain": [
       "0                                            description yet\n",
       "1          keyboard great condition work come port test w...\n",
       "2          adorable top hint lace key hole back pale pink...\n",
       "3          new tag leather horse retail rm stand foot hig...\n",
       "4                          complete certificate authenticity\n",
       "                                 ...                        \n",
       "1482530    lace say size small fit medium perfectly never...\n",
       "1482531        little mermaid handmade dress never wear size\n",
       "1482532                          use twice still great shape\n",
       "1482533    see so red orange big red orange one world market\n",
       "1482534         new tag red sparkle firm price free shipping\n",
       "Name: item_description, Length: 1476204, dtype: object"
      ]
     },
     "execution_count": 86,
     "metadata": {},
     "output_type": "execute_result"
    }
   ],
   "source": [
    "df1"
   ]
  },
  {
   "cell_type": "code",
   "execution_count": 61,
   "id": "80e450f9",
   "metadata": {},
   "outputs": [
    {
     "data": {
      "text/plain": [
       "(1476204,)"
      ]
     },
     "execution_count": 61,
     "metadata": {},
     "output_type": "execute_result"
    }
   ],
   "source": [
    "df2.shape"
   ]
  },
  {
   "cell_type": "code",
   "execution_count": 84,
   "id": "11ecd2a0",
   "metadata": {},
   "outputs": [
    {
     "data": {
      "text/plain": [
       "0                         \n",
       "1                     part\n",
       "2                         \n",
       "3             décor accent\n",
       "4                         \n",
       "                ...       \n",
       "1482530                   \n",
       "1482531                   \n",
       "1482532    sport accessory\n",
       "1482533       décor accent\n",
       "1482534                   \n",
       "Name: category_name, Length: 1476204, dtype: object"
      ]
     },
     "execution_count": 84,
     "metadata": {},
     "output_type": "execute_result"
    }
   ],
   "source": [
    "df2"
   ]
  },
  {
   "cell_type": "code",
   "execution_count": 62,
   "id": "9000144d",
   "metadata": {},
   "outputs": [
    {
     "data": {
      "text/plain": [
       "(1476204,)"
      ]
     },
     "execution_count": 62,
     "metadata": {},
     "output_type": "execute_result"
    }
   ],
   "source": [
    "df3.shape"
   ]
  },
  {
   "cell_type": "code",
   "execution_count": 85,
   "id": "e0a4024d",
   "metadata": {},
   "outputs": [
    {
     "data": {
      "text/plain": [
       "0          mlb cincinnati red t shirt size xl\n",
       "1            razer blackwidow chroma keyboard\n",
       "2                                      blouse\n",
       "3                        leather horse statue\n",
       "4                              gold plat rise\n",
       "                          ...                \n",
       "1482530             free people inspire dress\n",
       "1482531         little mermaid handmade dress\n",
       "1482532            day fix container eat plan\n",
       "1482533                 world market lanterns\n",
       "1482534                  brand new lux wallet\n",
       "Name: name, Length: 1476204, dtype: object"
      ]
     },
     "execution_count": 85,
     "metadata": {},
     "output_type": "execute_result"
    }
   ],
   "source": [
    "df3"
   ]
  },
  {
   "cell_type": "code",
   "execution_count": 82,
   "id": "e1f7182c",
   "metadata": {
    "scrolled": true
   },
   "outputs": [
    {
     "data": {
      "text/plain": [
       "'description yet'"
      ]
     },
     "execution_count": 82,
     "metadata": {},
     "output_type": "execute_result"
    }
   ],
   "source": [
    "df1[0]"
   ]
  },
  {
   "cell_type": "code",
   "execution_count": 83,
   "id": "a48ced52",
   "metadata": {},
   "outputs": [
    {
     "data": {
      "text/plain": [
       "''"
      ]
     },
     "execution_count": 83,
     "metadata": {},
     "output_type": "execute_result"
    }
   ],
   "source": []
  },
  {
   "cell_type": "code",
   "execution_count": 80,
   "id": "e4181912",
   "metadata": {},
   "outputs": [],
   "source": [
    "df12 = df1.str.cat(df2, sep = ' ',)"
   ]
  },
  {
   "cell_type": "code",
   "execution_count": 81,
   "id": "f79a387d",
   "metadata": {},
   "outputs": [
    {
     "data": {
      "text/plain": [
       "'description yet '"
      ]
     },
     "execution_count": 81,
     "metadata": {},
     "output_type": "execute_result"
    }
   ],
   "source": [
    "df12[0]"
   ]
  },
  {
   "cell_type": "code",
   "execution_count": null,
   "id": "af4d741c",
   "metadata": {},
   "outputs": [],
   "source": []
  },
  {
   "cell_type": "code",
   "execution_count": null,
   "id": "f1078b48",
   "metadata": {},
   "outputs": [],
   "source": []
  },
  {
   "cell_type": "code",
   "execution_count": null,
   "id": "5deaf7bf",
   "metadata": {},
   "outputs": [],
   "source": []
  },
  {
   "cell_type": "code",
   "execution_count": null,
   "id": "ddc01e35",
   "metadata": {},
   "outputs": [],
   "source": []
  },
  {
   "cell_type": "code",
   "execution_count": null,
   "id": "1277944a",
   "metadata": {},
   "outputs": [],
   "source": []
  },
  {
   "cell_type": "code",
   "execution_count": null,
   "id": "c6ecd491",
   "metadata": {},
   "outputs": [],
   "source": []
  },
  {
   "cell_type": "code",
   "execution_count": 47,
   "id": "fba631b8",
   "metadata": {},
   "outputs": [],
   "source": [
    "prc_steps = [('tfid', TfidfVectorizer(min_df = 0.05, max_df = 0.95))]\n",
    "tfid_pipeline = Pipeline(prc_steps)"
   ]
  },
  {
   "cell_type": "code",
   "execution_count": null,
   "id": "9abd745f",
   "metadata": {},
   "outputs": [],
   "source": []
  }
 ],
 "metadata": {
  "kernelspec": {
   "display_name": "Python (learn-env)",
   "language": "python",
   "name": "learn-env"
  },
  "language_info": {
   "codemirror_mode": {
    "name": "ipython",
    "version": 3
   },
   "file_extension": ".py",
   "mimetype": "text/x-python",
   "name": "python",
   "nbconvert_exporter": "python",
   "pygments_lexer": "ipython3",
   "version": "3.8.5"
  }
 },
 "nbformat": 4,
 "nbformat_minor": 5
}
